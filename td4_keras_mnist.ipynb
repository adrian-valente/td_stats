{
  "nbformat": 4,
  "nbformat_minor": 0,
  "metadata": {
    "colab": {
      "name": "keras_mnist.ipynb",
      "provenance": [],
      "collapsed_sections": []
    },
    "kernelspec": {
      "name": "python3",
      "display_name": "Python 3"
    }
  },
  "cells": [
    {
      "cell_type": "code",
      "metadata": {
        "id": "rVuZ9hlLZl1Z"
      },
      "source": [
        "import numpy as np\n",
        "import matplotlib.pyplot as plt\n",
        "import tensorflow as tf"
      ],
      "execution_count": 2,
      "outputs": []
    },
    {
      "cell_type": "code",
      "metadata": {
        "id": "z-zSTamBeOCO",
        "colab": {
          "base_uri": "https://localhost:8080/"
        },
        "outputId": "5bc2ada3-64d4-4241-8955-32e3f602ba47"
      },
      "source": [
        "data = tf.keras.datasets.mnist.load_data()"
      ],
      "execution_count": 3,
      "outputs": [
        {
          "output_type": "stream",
          "text": [
            "Downloading data from https://storage.googleapis.com/tensorflow/tf-keras-datasets/mnist.npz\n",
            "11493376/11490434 [==============================] - 0s 0us/step\n"
          ],
          "name": "stdout"
        }
      ]
    },
    {
      "cell_type": "code",
      "metadata": {
        "colab": {
          "base_uri": "https://localhost:8080/"
        },
        "id": "_9LXS-bZeVXj",
        "outputId": "e7086232-6273-48c3-9d6b-7e36af53d950"
      },
      "source": [
        "X_train, y_train = data[0]\n",
        "X_test, y_test = data[1]\n",
        "print(X_train.shape)\n",
        "print(y_train.shape)\n",
        "print(X_test.shape)\n",
        "print(y_test.shape)\n",
        "\n",
        "# Flatten 2D images to 1D vectors\n",
        "X_train = X_train.reshape((X_train.shape[0], -1))\n",
        "X_test = X_test.reshape((X_test.shape[0], -1))\n",
        "print(X_train.shape)\n",
        "print(X_test.shape)\n",
        "input_dim = X_train.shape[1]\n",
        "\n",
        "# Look at number of classes, and convert target to one-hot encoding\n",
        "n_classes = len(np.unique(y_train))\n",
        "print(n_classes, 'classes')\n",
        "y_train = tf.keras.utils.to_categorical(y_train, num_classes=n_classes)\n",
        "y_test = tf.keras.utils.to_categorical(y_test, num_classes=n_classes)\n",
        "print(y_train.shape)\n",
        "print(y_test.shape)"
      ],
      "execution_count": 5,
      "outputs": [
        {
          "output_type": "stream",
          "text": [
            "(60000, 28, 28)\n",
            "(60000,)\n",
            "(10000, 28, 28)\n",
            "(10000,)\n",
            "(60000, 784)\n",
            "(10000, 784)\n",
            "10 classes\n",
            "(60000, 10)\n",
            "(10000, 10)\n"
          ],
          "name": "stdout"
        }
      ]
    },
    {
      "cell_type": "code",
      "metadata": {
        "colab": {
          "base_uri": "https://localhost:8080/"
        },
        "id": "Tmi1zUhNeXEU",
        "outputId": "4451cba5-357a-4cd2-aa6c-f836482f3247"
      },
      "source": [
        "model = tf.keras.models.Sequential()\n",
        "model.add(tf.keras.layers.Dense(20, input_dim=input_dim, activation='relu'))\n",
        "model.add(tf.keras.layers.Dense(10, activation='softmax'))\n",
        "\n",
        "optim = tf.keras.optimizers.Adam(learning_rate=1e-2)\n",
        "model.compile(optimizer=optim, loss='categorical_crossentropy', metrics=['accuracy'])\n",
        "\n",
        "print(model.summary())"
      ],
      "execution_count": 6,
      "outputs": [
        {
          "output_type": "stream",
          "text": [
            "Model: \"sequential\"\n",
            "_________________________________________________________________\n",
            "Layer (type)                 Output Shape              Param #   \n",
            "=================================================================\n",
            "dense (Dense)                (None, 20)                15700     \n",
            "_________________________________________________________________\n",
            "dense_1 (Dense)              (None, 10)                210       \n",
            "=================================================================\n",
            "Total params: 15,910\n",
            "Trainable params: 15,910\n",
            "Non-trainable params: 0\n",
            "_________________________________________________________________\n",
            "None\n"
          ],
          "name": "stdout"
        }
      ]
    },
    {
      "cell_type": "code",
      "metadata": {
        "colab": {
          "base_uri": "https://localhost:8080/"
        },
        "id": "4sVYijuqhSeJ",
        "outputId": "7e88b164-7832-45b2-fbc3-c80960a9954d"
      },
      "source": [
        "history = model.fit(X_train, y_train, batch_size=2048, epochs=50, validation_data=(X_test, y_test))"
      ],
      "execution_count": 7,
      "outputs": [
        {
          "output_type": "stream",
          "text": [
            "Epoch 1/50\n",
            "30/30 [==============================] - 1s 18ms/step - loss: 21.4742 - accuracy: 0.1375 - val_loss: 2.3039 - val_accuracy: 0.1016\n",
            "Epoch 2/50\n",
            "30/30 [==============================] - 0s 13ms/step - loss: 2.3030 - accuracy: 0.1023 - val_loss: 2.3019 - val_accuracy: 0.1011\n",
            "Epoch 3/50\n",
            "30/30 [==============================] - 0s 13ms/step - loss: 2.3014 - accuracy: 0.1080 - val_loss: 2.3010 - val_accuracy: 0.1136\n",
            "Epoch 4/50\n",
            "30/30 [==============================] - 0s 14ms/step - loss: 2.3011 - accuracy: 0.1125 - val_loss: 2.3008 - val_accuracy: 0.1136\n",
            "Epoch 5/50\n",
            "30/30 [==============================] - 0s 13ms/step - loss: 2.3010 - accuracy: 0.1125 - val_loss: 2.3007 - val_accuracy: 0.1137\n",
            "Epoch 6/50\n",
            "30/30 [==============================] - 0s 14ms/step - loss: 2.3010 - accuracy: 0.1125 - val_loss: 2.3007 - val_accuracy: 0.1137\n",
            "Epoch 7/50\n",
            "30/30 [==============================] - 0s 13ms/step - loss: 2.3010 - accuracy: 0.1125 - val_loss: 2.3006 - val_accuracy: 0.1137\n",
            "Epoch 8/50\n",
            "30/30 [==============================] - 0s 14ms/step - loss: 2.3010 - accuracy: 0.1125 - val_loss: 2.3005 - val_accuracy: 0.1138\n",
            "Epoch 9/50\n",
            "30/30 [==============================] - 0s 13ms/step - loss: 2.3010 - accuracy: 0.1125 - val_loss: 2.3004 - val_accuracy: 0.1138\n",
            "Epoch 10/50\n",
            "30/30 [==============================] - 0s 14ms/step - loss: 2.3009 - accuracy: 0.1125 - val_loss: 2.3004 - val_accuracy: 0.1138\n",
            "Epoch 11/50\n",
            "30/30 [==============================] - 0s 14ms/step - loss: 2.3009 - accuracy: 0.1125 - val_loss: 2.3004 - val_accuracy: 0.1138\n",
            "Epoch 12/50\n",
            "30/30 [==============================] - 0s 13ms/step - loss: 2.3010 - accuracy: 0.1125 - val_loss: 2.3003 - val_accuracy: 0.1139\n",
            "Epoch 13/50\n",
            "30/30 [==============================] - 0s 14ms/step - loss: 2.3009 - accuracy: 0.1125 - val_loss: 2.3002 - val_accuracy: 0.1139\n",
            "Epoch 14/50\n",
            "30/30 [==============================] - 0s 14ms/step - loss: 2.3008 - accuracy: 0.1126 - val_loss: 2.3001 - val_accuracy: 0.1140\n",
            "Epoch 15/50\n",
            "30/30 [==============================] - 0s 13ms/step - loss: 2.3008 - accuracy: 0.1126 - val_loss: 2.2999 - val_accuracy: 0.1141\n",
            "Epoch 16/50\n",
            "30/30 [==============================] - 0s 14ms/step - loss: 2.3006 - accuracy: 0.1127 - val_loss: 2.2990 - val_accuracy: 0.1146\n",
            "Epoch 17/50\n",
            "30/30 [==============================] - 0s 13ms/step - loss: 2.3003 - accuracy: 0.1129 - val_loss: 2.2976 - val_accuracy: 0.1151\n",
            "Epoch 18/50\n",
            "30/30 [==============================] - 0s 13ms/step - loss: 2.2992 - accuracy: 0.1134 - val_loss: 2.2948 - val_accuracy: 0.1165\n",
            "Epoch 19/50\n",
            "30/30 [==============================] - 0s 14ms/step - loss: 2.2949 - accuracy: 0.1156 - val_loss: 2.2868 - val_accuracy: 0.1199\n",
            "Epoch 20/50\n",
            "30/30 [==============================] - 0s 13ms/step - loss: 2.2882 - accuracy: 0.1194 - val_loss: 2.2725 - val_accuracy: 0.1268\n",
            "Epoch 21/50\n",
            "30/30 [==============================] - 0s 13ms/step - loss: 2.2753 - accuracy: 0.1247 - val_loss: 2.2600 - val_accuracy: 0.1329\n",
            "Epoch 22/50\n",
            "30/30 [==============================] - 0s 14ms/step - loss: 2.2586 - accuracy: 0.1340 - val_loss: 2.2439 - val_accuracy: 0.1409\n",
            "Epoch 23/50\n",
            "30/30 [==============================] - 0s 13ms/step - loss: 2.2399 - accuracy: 0.1427 - val_loss: 2.2199 - val_accuracy: 0.1493\n",
            "Epoch 24/50\n",
            "30/30 [==============================] - 0s 13ms/step - loss: 2.2198 - accuracy: 0.1502 - val_loss: 2.2043 - val_accuracy: 0.1574\n",
            "Epoch 25/50\n",
            "30/30 [==============================] - 0s 13ms/step - loss: 2.2032 - accuracy: 0.1566 - val_loss: 2.1848 - val_accuracy: 0.1612\n",
            "Epoch 26/50\n",
            "30/30 [==============================] - 0s 14ms/step - loss: 2.1801 - accuracy: 0.1629 - val_loss: 2.1576 - val_accuracy: 0.1707\n",
            "Epoch 27/50\n",
            "30/30 [==============================] - 0s 14ms/step - loss: 2.1454 - accuracy: 0.1696 - val_loss: 2.1016 - val_accuracy: 0.1781\n",
            "Epoch 28/50\n",
            "30/30 [==============================] - 0s 14ms/step - loss: 2.0870 - accuracy: 0.1794 - val_loss: 2.0590 - val_accuracy: 0.1805\n",
            "Epoch 29/50\n",
            "30/30 [==============================] - 0s 13ms/step - loss: 2.0583 - accuracy: 0.1837 - val_loss: 2.0459 - val_accuracy: 0.1840\n",
            "Epoch 30/50\n",
            "30/30 [==============================] - 0s 13ms/step - loss: 2.0403 - accuracy: 0.1854 - val_loss: 2.0399 - val_accuracy: 0.1884\n",
            "Epoch 31/50\n",
            "30/30 [==============================] - 0s 13ms/step - loss: 2.0346 - accuracy: 0.1855 - val_loss: 2.0184 - val_accuracy: 0.1924\n",
            "Epoch 32/50\n",
            "30/30 [==============================] - 0s 13ms/step - loss: 2.0061 - accuracy: 0.1923 - val_loss: 2.0216 - val_accuracy: 0.1994\n",
            "Epoch 33/50\n",
            "30/30 [==============================] - 0s 14ms/step - loss: 1.9973 - accuracy: 0.1929 - val_loss: 1.9963 - val_accuracy: 0.2027\n",
            "Epoch 34/50\n",
            "30/30 [==============================] - 0s 14ms/step - loss: 1.9921 - accuracy: 0.1965 - val_loss: 2.0093 - val_accuracy: 0.2047\n",
            "Epoch 35/50\n",
            "30/30 [==============================] - 0s 13ms/step - loss: 1.9754 - accuracy: 0.2011 - val_loss: 2.0150 - val_accuracy: 0.2112\n",
            "Epoch 36/50\n",
            "30/30 [==============================] - 0s 13ms/step - loss: 1.9749 - accuracy: 0.1988 - val_loss: 1.9837 - val_accuracy: 0.2163\n",
            "Epoch 37/50\n",
            "30/30 [==============================] - 0s 13ms/step - loss: 1.9619 - accuracy: 0.2057 - val_loss: 1.9956 - val_accuracy: 0.2098\n",
            "Epoch 38/50\n",
            "30/30 [==============================] - 0s 13ms/step - loss: 1.9544 - accuracy: 0.2082 - val_loss: 1.9851 - val_accuracy: 0.2005\n",
            "Epoch 39/50\n",
            "30/30 [==============================] - 0s 13ms/step - loss: 1.9515 - accuracy: 0.2063 - val_loss: 1.9763 - val_accuracy: 0.2130\n",
            "Epoch 40/50\n",
            "30/30 [==============================] - 0s 14ms/step - loss: 1.9478 - accuracy: 0.2094 - val_loss: 1.9590 - val_accuracy: 0.2182\n",
            "Epoch 41/50\n",
            "30/30 [==============================] - 0s 13ms/step - loss: 1.9334 - accuracy: 0.2162 - val_loss: 1.9567 - val_accuracy: 0.2264\n",
            "Epoch 42/50\n",
            "30/30 [==============================] - 0s 14ms/step - loss: 1.9252 - accuracy: 0.2205 - val_loss: 1.9232 - val_accuracy: 0.2217\n",
            "Epoch 43/50\n",
            "30/30 [==============================] - 0s 14ms/step - loss: 1.9087 - accuracy: 0.2263 - val_loss: 1.9126 - val_accuracy: 0.2359\n",
            "Epoch 44/50\n",
            "30/30 [==============================] - 0s 13ms/step - loss: 1.8965 - accuracy: 0.2305 - val_loss: 1.8974 - val_accuracy: 0.2434\n",
            "Epoch 45/50\n",
            "30/30 [==============================] - 0s 14ms/step - loss: 1.8856 - accuracy: 0.2340 - val_loss: 1.8889 - val_accuracy: 0.2313\n",
            "Epoch 46/50\n",
            "30/30 [==============================] - 0s 13ms/step - loss: 1.8779 - accuracy: 0.2344 - val_loss: 1.8642 - val_accuracy: 0.2385\n",
            "Epoch 47/50\n",
            "30/30 [==============================] - 0s 13ms/step - loss: 1.8712 - accuracy: 0.2425 - val_loss: 1.8620 - val_accuracy: 0.2636\n",
            "Epoch 48/50\n",
            "30/30 [==============================] - 0s 14ms/step - loss: 1.8554 - accuracy: 0.2579 - val_loss: 1.8381 - val_accuracy: 0.2459\n",
            "Epoch 49/50\n",
            "30/30 [==============================] - 0s 14ms/step - loss: 1.8415 - accuracy: 0.2556 - val_loss: 1.8489 - val_accuracy: 0.2569\n",
            "Epoch 50/50\n",
            "30/30 [==============================] - 0s 14ms/step - loss: 1.8316 - accuracy: 0.2539 - val_loss: 1.8129 - val_accuracy: 0.2618\n"
          ],
          "name": "stdout"
        }
      ]
    },
    {
      "cell_type": "code",
      "metadata": {
        "colab": {
          "base_uri": "https://localhost:8080/"
        },
        "id": "i5LAeDzJC9XK",
        "outputId": "0aa787e6-1c5b-4445-c31d-dedafd6922de"
      },
      "source": [
        "history.history.keys()"
      ],
      "execution_count": 8,
      "outputs": [
        {
          "output_type": "execute_result",
          "data": {
            "text/plain": [
              "dict_keys(['loss', 'accuracy', 'val_loss', 'val_accuracy'])"
            ]
          },
          "metadata": {
            "tags": []
          },
          "execution_count": 8
        }
      ]
    },
    {
      "cell_type": "code",
      "metadata": {
        "colab": {
          "base_uri": "https://localhost:8080/",
          "height": 545
        },
        "id": "lvPpMTLwhWKe",
        "outputId": "1e20cda4-f5f9-4495-d9fe-ac1610ce2807"
      },
      "source": [
        "plt.plot(history.history['loss'], label='train')\n",
        "plt.plot(history.history['val_loss'], label='test')\n",
        "plt.title('Loss learning curve')\n",
        "plt.legend()\n",
        "plt.show()\n",
        "\n",
        "plt.plot(history.history['accuracy'], label='train')\n",
        "plt.plot(history.history['val_accuracy'], label='test')\n",
        "plt.title('Accuracy learning curve')\n",
        "plt.legend()\n",
        "plt.show()"
      ],
      "execution_count": 10,
      "outputs": [
        {
          "output_type": "display_data",
          "data": {
            "image/png": "[encoded data removed]",
            "text/plain": [
              "<Figure size 432x288 with 1 Axes>"
            ]
          },
          "metadata": {
            "tags": [],
            "needs_background": "light"
          }
        },
        {
          "output_type": "display_data",
          "data": {
            "image/png": "[encoded data removed]",
            "text/plain": [
              "<Figure size 432x288 with 1 Axes>"
            ]
          },
          "metadata": {
            "tags": [],
            "needs_background": "light"
          }
        }
      ]
    },
    {
      "cell_type": "code",
      "metadata": {
        "id": "bIb_PO3dmFzW"
      },
      "source": [
        ""
      ],
      "execution_count": null,
      "outputs": []
    }
  ]
}